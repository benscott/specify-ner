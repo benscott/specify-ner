{
 "metadata": {
  "language_info": {
   "codemirror_mode": {
    "name": "ipython",
    "version": 3
   },
   "file_extension": ".py",
   "mimetype": "text/x-python",
   "name": "python",
   "nbconvert_exporter": "python",
   "pygments_lexer": "ipython3",
   "version": "3.6.12-final"
  },
  "orig_nbformat": 2,
  "kernelspec": {
   "name": "python3",
   "display_name": "Python 3"
  }
 },
 "nbformat": 4,
 "nbformat_minor": 2,
 "cells": [
  {
   "cell_type": "code",
   "execution_count": 1,
   "metadata": {},
   "outputs": [],
   "source": [
    "import scispacy \n",
    "import spacy  \n",
    "import pandas as pd\n",
    "from spacy import displacy\n",
    "from pathlib import Path\n",
    "import re\n",
    "import json\n",
    "import numpy as np\n",
    "\n",
    "from spacy.pipeline import EntityRuler\n",
    "from spacy.tokens import Doc, Span, Token\n",
    "from enum import Enum\n",
    "from spacy import displacy\n",
    "from spacy.tokenizer import Tokenizer\n",
    "from spacy.util import compile_infix_regex\n",
    "from spacy.tokens import Span\n"
   ]
  },
  {
   "cell_type": "code",
   "execution_count": 3,
   "metadata": {},
   "outputs": [],
   "source": [
    "nlp = spacy.load(\"en_core_web_sm\")"
   ]
  },
  {
   "cell_type": "code",
   "execution_count": 4,
   "metadata": {},
   "outputs": [],
   "source": [
    "DATA_DIR = Path('./data')"
   ]
  },
  {
   "cell_type": "code",
   "execution_count": 5,
   "metadata": {},
   "outputs": [
    {
     "output_type": "stream",
     "name": "stdout",
     "text": [
      "(geological,)\n"
     ]
    }
   ],
   "source": [
    "nlp.pipeline\n",
    "\n",
    "nlp.replace_pipe('ner', EntityRuler(nlp).from_disk(Path(DATA_DIR / 'taxa.jsonl')))\n",
    "\n",
    "text = 'geological museum, university of copenhagen '\n",
    "doc = nlp(text)\n",
    "print(doc.ents)"
   ]
  },
  {
   "cell_type": "code",
   "execution_count": 6,
   "metadata": {},
   "outputs": [],
   "source": [
    "def preprocess_text(txt):\n",
    "    return txt.replace('/', ' ').replace('.', ' ').replace('-', ' ').replace(',', ' ').lower()\n",
    "\n"
   ]
  },
  {
   "cell_type": "code",
   "execution_count": 10,
   "metadata": {},
   "outputs": [
    {
     "output_type": "stream",
     "name": "stdout",
     "text": [
      "Myriapoda\n{'ZOO'}\n"
     ]
    }
   ],
   "source": [
    "coll= pd.read_excel( DATA_DIR / 'specify_collections_working.xlsx')\n",
    "\n",
    "coll.head()\n",
    "\n",
    "for req in coll['Request']:\n",
    "    try:\n",
    "        text = preprocess_text(req)\n",
    "    except AttributeError:\n",
    "        continue\n",
    "\n",
    "    doc = nlp(text)\n",
    "    labels = set([e.label_ for e in doc.ents])    \n",
    "    print(req)\n",
    "    print(labels)\n",
    "    break\n",
    "\n"
   ]
  },
  {
   "cell_type": "code",
   "execution_count": null,
   "metadata": {},
   "outputs": [],
   "source": []
  }
 ]
}